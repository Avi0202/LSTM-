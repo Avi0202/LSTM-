{
 "cells": [
  {
   "cell_type": "code",
   "execution_count": 2,
   "id": "f6098ee1",
   "metadata": {},
   "outputs": [],
   "source": [
    "from alpha_vantage.timeseries import TimeSeries\n",
    "import pandas as pd\n",
    "\n",
    "api_key = 'LLSGCNAU6ZQMK8KL'\n",
    "ts = TimeSeries(key=api_key, output_format='pandas')\n",
    "\n",
    "# Get daily prices for Apple\n",
    "data, meta_data = ts.get_daily(symbol='AAPL', outputsize='full')\n",
    "data = data.sort_index()  # Ensure data is in ascending order by date\n",
    "\n"
   ]
  },
  {
   "cell_type": "code",
   "execution_count": 3,
   "id": "44337fc1",
   "metadata": {},
   "outputs": [
    {
     "data": {
      "text/html": [
       "<div>\n",
       "<style scoped>\n",
       "    .dataframe tbody tr th:only-of-type {\n",
       "        vertical-align: middle;\n",
       "    }\n",
       "\n",
       "    .dataframe tbody tr th {\n",
       "        vertical-align: top;\n",
       "    }\n",
       "\n",
       "    .dataframe thead th {\n",
       "        text-align: right;\n",
       "    }\n",
       "</style>\n",
       "<table border=\"1\" class=\"dataframe\">\n",
       "  <thead>\n",
       "    <tr style=\"text-align: right;\">\n",
       "      <th></th>\n",
       "      <th>Open</th>\n",
       "      <th>High</th>\n",
       "      <th>Low</th>\n",
       "      <th>Close</th>\n",
       "      <th>Volume</th>\n",
       "    </tr>\n",
       "    <tr>\n",
       "      <th>date</th>\n",
       "      <th></th>\n",
       "      <th></th>\n",
       "      <th></th>\n",
       "      <th></th>\n",
       "      <th></th>\n",
       "    </tr>\n",
       "  </thead>\n",
       "  <tbody>\n",
       "    <tr>\n",
       "      <th>1999-11-01</th>\n",
       "      <td>80.000</td>\n",
       "      <td>80.690</td>\n",
       "      <td>77.37</td>\n",
       "      <td>77.62</td>\n",
       "      <td>2487300.0</td>\n",
       "    </tr>\n",
       "    <tr>\n",
       "      <th>1999-11-02</th>\n",
       "      <td>78.000</td>\n",
       "      <td>81.690</td>\n",
       "      <td>77.31</td>\n",
       "      <td>80.25</td>\n",
       "      <td>3564600.0</td>\n",
       "    </tr>\n",
       "    <tr>\n",
       "      <th>1999-11-03</th>\n",
       "      <td>81.620</td>\n",
       "      <td>83.250</td>\n",
       "      <td>81.00</td>\n",
       "      <td>81.50</td>\n",
       "      <td>2932700.0</td>\n",
       "    </tr>\n",
       "    <tr>\n",
       "      <th>1999-11-04</th>\n",
       "      <td>82.060</td>\n",
       "      <td>85.370</td>\n",
       "      <td>80.62</td>\n",
       "      <td>83.62</td>\n",
       "      <td>3384700.0</td>\n",
       "    </tr>\n",
       "    <tr>\n",
       "      <th>1999-11-05</th>\n",
       "      <td>84.620</td>\n",
       "      <td>88.370</td>\n",
       "      <td>84.00</td>\n",
       "      <td>88.31</td>\n",
       "      <td>3721500.0</td>\n",
       "    </tr>\n",
       "    <tr>\n",
       "      <th>...</th>\n",
       "      <td>...</td>\n",
       "      <td>...</td>\n",
       "      <td>...</td>\n",
       "      <td>...</td>\n",
       "      <td>...</td>\n",
       "    </tr>\n",
       "    <tr>\n",
       "      <th>2025-07-28</th>\n",
       "      <td>214.030</td>\n",
       "      <td>214.845</td>\n",
       "      <td>213.06</td>\n",
       "      <td>214.05</td>\n",
       "      <td>37858017.0</td>\n",
       "    </tr>\n",
       "    <tr>\n",
       "      <th>2025-07-29</th>\n",
       "      <td>214.175</td>\n",
       "      <td>214.810</td>\n",
       "      <td>210.82</td>\n",
       "      <td>211.27</td>\n",
       "      <td>51411723.0</td>\n",
       "    </tr>\n",
       "    <tr>\n",
       "      <th>2025-07-30</th>\n",
       "      <td>211.895</td>\n",
       "      <td>212.390</td>\n",
       "      <td>207.72</td>\n",
       "      <td>209.05</td>\n",
       "      <td>45512514.0</td>\n",
       "    </tr>\n",
       "    <tr>\n",
       "      <th>2025-07-31</th>\n",
       "      <td>208.490</td>\n",
       "      <td>209.840</td>\n",
       "      <td>207.16</td>\n",
       "      <td>207.57</td>\n",
       "      <td>80698431.0</td>\n",
       "    </tr>\n",
       "    <tr>\n",
       "      <th>2025-08-01</th>\n",
       "      <td>210.865</td>\n",
       "      <td>213.580</td>\n",
       "      <td>201.50</td>\n",
       "      <td>202.38</td>\n",
       "      <td>104434473.0</td>\n",
       "    </tr>\n",
       "  </tbody>\n",
       "</table>\n",
       "<p>6477 rows × 5 columns</p>\n",
       "</div>"
      ],
      "text/plain": [
       "               Open     High     Low   Close       Volume\n",
       "date                                                     \n",
       "1999-11-01   80.000   80.690   77.37   77.62    2487300.0\n",
       "1999-11-02   78.000   81.690   77.31   80.25    3564600.0\n",
       "1999-11-03   81.620   83.250   81.00   81.50    2932700.0\n",
       "1999-11-04   82.060   85.370   80.62   83.62    3384700.0\n",
       "1999-11-05   84.620   88.370   84.00   88.31    3721500.0\n",
       "...             ...      ...     ...     ...          ...\n",
       "2025-07-28  214.030  214.845  213.06  214.05   37858017.0\n",
       "2025-07-29  214.175  214.810  210.82  211.27   51411723.0\n",
       "2025-07-30  211.895  212.390  207.72  209.05   45512514.0\n",
       "2025-07-31  208.490  209.840  207.16  207.57   80698431.0\n",
       "2025-08-01  210.865  213.580  201.50  202.38  104434473.0\n",
       "\n",
       "[6477 rows x 5 columns]"
      ]
     },
     "execution_count": 3,
     "metadata": {},
     "output_type": "execute_result"
    }
   ],
   "source": [
    "df=pd.DataFrame(data)\n",
    "df.columns = ['Open', 'High', 'Low', 'Close', 'Volume']\n",
    "df"
   ]
  },
  {
   "cell_type": "code",
   "execution_count": null,
   "id": "935f66b7",
   "metadata": {},
   "outputs": [],
   "source": [
    "import numpy as np\n",
    "X=np.array(df)\n"
   ]
  },
  {
   "cell_type": "code",
   "execution_count": 9,
   "id": "a7a739e2",
   "metadata": {},
   "outputs": [
    {
     "data": {
      "text/plain": [
       "array([[-9.56303428e+01, -9.68896179e+01, -9.62260260e+01,\n",
       "        -9.80286257e+01, -3.12711724e+07],\n",
       "       [-9.76303428e+01, -9.58896179e+01, -9.62860260e+01,\n",
       "        -9.53986257e+01, -3.01938724e+07],\n",
       "       [-9.40103428e+01, -9.43296179e+01, -9.25960260e+01,\n",
       "        -9.41486257e+01, -3.08257724e+07],\n",
       "       ...,\n",
       "       [ 3.62646572e+01,  3.48103821e+01,  3.41239740e+01,\n",
       "         3.34013743e+01,  1.17540416e+07],\n",
       "       [ 3.28596572e+01,  3.22603821e+01,  3.35639740e+01,\n",
       "         3.19213743e+01,  4.69399586e+07],\n",
       "       [ 3.52346572e+01,  3.60003821e+01,  2.79039740e+01,\n",
       "         2.67313743e+01,  7.06760006e+07]])"
      ]
     },
     "execution_count": 9,
     "metadata": {},
     "output_type": "execute_result"
    }
   ],
   "source": [
    "X_centered = X - np.mean(X, axis=0)\n",
    "X_centered"
   ]
  },
  {
   "cell_type": "code",
   "execution_count": 12,
   "id": "c57bf2d1",
   "metadata": {},
   "outputs": [
    {
     "data": {
      "text/plain": [
       "array([ 1.65265249e-07,  1.56981703e-07,  1.74429985e-07,  1.65997774e-07,\n",
       "       -1.00000000e+00])"
      ]
     },
     "execution_count": 12,
     "metadata": {},
     "output_type": "execute_result"
    }
   ],
   "source": [
    "U,s,Vt = np.linalg.svd(X_centered)\n",
    "Vt.T[:,0]"
   ]
  },
  {
   "cell_type": "code",
   "execution_count": 13,
   "id": "bf08b989",
   "metadata": {},
   "outputs": [],
   "source": [
    "from sklearn.decomposition import PCA\n",
    "pca = PCA()\n",
    "X_PCA = pca.fit_transform(X)"
   ]
  },
  {
   "cell_type": "code",
   "execution_count": 14,
   "id": "03efe58b",
   "metadata": {},
   "outputs": [
    {
     "data": {
      "text/plain": [
       "array([-1.65265249e-07, -1.56981703e-07, -1.74429985e-07, -1.65997774e-07,\n",
       "        1.00000000e+00])"
      ]
     },
     "execution_count": 14,
     "metadata": {},
     "output_type": "execute_result"
    }
   ],
   "source": [
    "pca.components_.T[:, 0]"
   ]
  },
  {
   "cell_type": "code",
   "execution_count": 15,
   "id": "9b5da662",
   "metadata": {},
   "outputs": [
    {
     "data": {
      "text/plain": [
       "array([1.00000000e+00, 8.98820496e-11, 6.04768130e-15, 3.90775952e-15,\n",
       "       6.76298446e-16])"
      ]
     },
     "execution_count": 15,
     "metadata": {},
     "output_type": "execute_result"
    }
   ],
   "source": [
    "pca.explained_variance_ratio_"
   ]
  },
  {
   "cell_type": "code",
   "execution_count": 17,
   "id": "5d49b33e",
   "metadata": {},
   "outputs": [
    {
     "data": {
      "text/plain": [
       "array([-0., -0., -0., -0.,  1.])"
      ]
     },
     "execution_count": 17,
     "metadata": {},
     "output_type": "execute_result"
    }
   ],
   "source": [
    "np.round(pca.components_[0])"
   ]
  },
  {
   "cell_type": "code",
   "execution_count": null,
   "id": "a1d9ee73",
   "metadata": {},
   "outputs": [],
   "source": []
  }
 ],
 "metadata": {
  "kernelspec": {
   "display_name": "venv",
   "language": "python",
   "name": "python3"
  },
  "language_info": {
   "codemirror_mode": {
    "name": "ipython",
    "version": 3
   },
   "file_extension": ".py",
   "mimetype": "text/x-python",
   "name": "python",
   "nbconvert_exporter": "python",
   "pygments_lexer": "ipython3",
   "version": "3.12.1"
  }
 },
 "nbformat": 4,
 "nbformat_minor": 5
}
